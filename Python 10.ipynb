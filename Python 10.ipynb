{
 "cells": [
  {
   "cell_type": "code",
   "execution_count": 3,
   "id": "c0a2b062",
   "metadata": {},
   "outputs": [
    {
     "name": "stdout",
     "output_type": "stream",
     "text": [
      "Enter an element to be inserted4\n",
      "Element found at index: ([2, 4, 6, 8, 9], 5, 4)\n"
     ]
    }
   ],
   "source": [
    "def linearsearch(array,n,x):\n",
    "    for i in range(0,n):\n",
    "        if (array[i]==x):\n",
    "            return i\n",
    "        return -1\n",
    "    \n",
    "array=[2,4,6,8,9]\n",
    "x=eval(input(\"Enter an element to be inserted\"))\n",
    "n=len(array)\n",
    "result=(array,n,x)\n",
    "if (result==-1):\n",
    "    print(\"Element not found\")\n",
    "else:\n",
    "    print(\"Element found at index:\",result)\n",
    "\n"
   ]
  },
  {
   "cell_type": "code",
   "execution_count": null,
   "id": "3e050392",
   "metadata": {},
   "outputs": [],
   "source": []
  }
 ],
 "metadata": {
  "kernelspec": {
   "display_name": "Python 3 (ipykernel)",
   "language": "python",
   "name": "python3"
  },
  "language_info": {
   "codemirror_mode": {
    "name": "ipython",
    "version": 3
   },
   "file_extension": ".py",
   "mimetype": "text/x-python",
   "name": "python",
   "nbconvert_exporter": "python",
   "pygments_lexer": "ipython3",
   "version": "3.11.0"
  }
 },
 "nbformat": 4,
 "nbformat_minor": 5
}
