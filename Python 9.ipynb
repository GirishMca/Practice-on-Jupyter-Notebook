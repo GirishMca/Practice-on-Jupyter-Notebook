{
 "cells": [
  {
   "cell_type": "code",
   "execution_count": 5,
   "id": "707697de",
   "metadata": {},
   "outputs": [
    {
     "name": "stdout",
     "output_type": "stream",
     "text": [
      " the values are :\n",
      "a=10 b=20\n",
      "d=30\n",
      " the values are :\n",
      "a=10 b=20\n",
      "d=30\n"
     ]
    }
   ],
   "source": [
    "class Base:\n",
    "    def __init__(self):\n",
    "        self.a = 10\n",
    "        self._b = 20\n",
    "        \n",
    "    def display(self):\n",
    "         print(\" the values are :\")\n",
    "         print(f\"a={self.a} b={self._b}\")\n",
    "\n",
    "class Derived(Base):                                   # Creating a derived class\n",
    "    def __init__(self):         \n",
    "        Base.__init__(self)                        # Calling constructor of Base class\n",
    "        self.d = 30\n",
    "        \n",
    "    def display(self):\n",
    "        Base.display(self)\n",
    "        print(f\"d={self.d}\")\n",
    "\n",
    "    def __add__(self, ob):\n",
    "        return self.a + ob.a+self.d + ob.d\n",
    "        #return self.a + ob.a+self.d + ob.d+self.b + ob.b\n",
    "\n",
    "\n",
    "obj1 = Base()\n",
    "obj2 = Derived()\n",
    "obj3 = Derived()\n",
    "\n",
    "\n",
    "obj2.display()\n",
    "obj3.display()"
   ]
  },
  {
   "cell_type": "code",
   "execution_count": null,
   "id": "4e50e10b",
   "metadata": {},
   "outputs": [],
   "source": []
  }
 ],
 "metadata": {
  "kernelspec": {
   "display_name": "Python 3 (ipykernel)",
   "language": "python",
   "name": "python3"
  },
  "language_info": {
   "codemirror_mode": {
    "name": "ipython",
    "version": 3
   },
   "file_extension": ".py",
   "mimetype": "text/x-python",
   "name": "python",
   "nbconvert_exporter": "python",
   "pygments_lexer": "ipython3",
   "version": "3.11.0"
  }
 },
 "nbformat": 4,
 "nbformat_minor": 5
}
