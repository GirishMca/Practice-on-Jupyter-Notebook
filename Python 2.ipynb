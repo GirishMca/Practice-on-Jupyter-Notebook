{
 "cells": [
  {
   "cell_type": "code",
   "execution_count": 1,
   "id": "6622a7d7",
   "metadata": {},
   "outputs": [
    {
     "name": "stdout",
     "output_type": "stream",
     "text": [
      "enter the value to be inserted 6\n",
      "[1, 2, 4, 6]\n"
     ]
    }
   ],
   "source": [
    "import bisect  \n",
    "  \n",
    "def insert(list, n):\n",
    "    bisect.insort(list, n) \n",
    "    return list\n",
    "  \n",
    "\n",
    "list = [1, 2, 4]\n",
    "n = eval(input(\"enter the value to be inserted \"))\n",
    "  \n",
    "print(insert(list, n))\n"
   ]
  },
  {
   "cell_type": "code",
   "execution_count": 3,
   "id": "8b16f7e3",
   "metadata": {},
   "outputs": [
    {
     "name": "stdout",
     "output_type": "stream",
     "text": [
      "enter the element to be searched: 9\n",
      "Element found at index:  4\n"
     ]
    }
   ],
   "source": [
    "def linearSearch(array, n, x):\n",
    "    for i in range(0, n):\n",
    "        if (array[i] == x):\n",
    "            return i\n",
    "    return -1\n",
    "\n",
    "\n",
    "array = [2, 4, 0, 1, 9]\n",
    "x = eval(input(\"enter the element to be searched: \"))\n",
    "n = len(array)\n",
    "result = linearSearch(array, n, x)\n",
    "if(result == -1):\n",
    "    print(\"Element not found\")\n",
    "else:\n",
    "    print(\"Element found at index: \", result)"
   ]
  },
  {
   "cell_type": "code",
   "execution_count": 4,
   "id": "074c9a11",
   "metadata": {},
   "outputs": [
    {
     "name": "stdout",
     "output_type": "stream",
     "text": [
      " the values are :\n",
      "a=10 b=20\n",
      "d=30\n",
      " the values are :\n",
      "a=10 b=20\n",
      "d=30\n",
      "\n",
      " Sum of two objects : 80\n"
     ]
    }
   ],
   "source": [
    "class Base:\n",
    "    def __init__(self):\n",
    "        self.a = 10\n",
    "        self._b = 20\n",
    "        \n",
    "    def display(self):\n",
    "         print(\" the values are :\")\n",
    "         print(f\"a={self.a} b={self._b}\")\n",
    "\n",
    "class Derived(Base):                                   # Creating a derived class\n",
    "    def __init__(self):         \n",
    "        Base.__init__(self)                        # Calling constructor of Base class\n",
    "        self.d = 30\n",
    "        \n",
    "    def display(self):\n",
    "        Base.display(self)\n",
    "        print(f\"d={self.d}\")\n",
    "\n",
    "    def __add__(self, ob):\n",
    "        return self.a + ob.a+self.d + ob.d\n",
    "        #return self.a + ob.a+self.d + ob.d+self.b + ob.b\n",
    "\n",
    "\n",
    "obj1 = Base()\n",
    "obj2 = Derived()\n",
    "obj3 = Derived()\n",
    "\n",
    "\n",
    "obj2.display()\n",
    "obj3.display()\n",
    "\n",
    "print(\"\\n Sum of two objects :\",obj2 + obj3)\n",
    "\n",
    "    \n",
    "    "
   ]
  },
  {
   "cell_type": "code",
   "execution_count": 9,
   "id": "e6a45a78",
   "metadata": {},
   "outputs": [
    {
     "name": "stdout",
     "output_type": "stream",
     "text": [
      "concate with axis=0 : [[1 2]\n",
      " [3 4]\n",
      " [5 6]]\n",
      "concate with axis=0 : [[1 2 5]\n",
      " [3 4 6]]\n"
     ]
    },
    {
     "data": {
      "text/plain": [
       "array([1, 2, 3, 4, 5, 6])"
      ]
     },
     "execution_count": 9,
     "metadata": {},
     "output_type": "execute_result"
    }
   ],
   "source": [
    "import numpy as np\n",
    "a = np.array([[1, 2], [3, 4]])\n",
    "b = np.array([[5, 6]])\n",
    "print(\"concate with axis=0 :\",np.concatenate((a, b), axis=0))\n",
    "print(\"concate with axis=0 :\",np.concatenate ((a, b.T), axis=1))\n",
    "\n",
    "np.concatenate((a, b), axis=None)\n"
   ]
  },
  {
   "cell_type": "code",
   "execution_count": 11,
   "id": "02e0b9d6",
   "metadata": {},
   "outputs": [],
   "source": [
    "a = np.array([[12,4,5],[23,45,66],[45,34,23]])\n",
    "b = np.array([[1,40,50],[2,4,6],[4,3,2]])"
   ]
  },
  {
   "cell_type": "code",
   "execution_count": 12,
   "id": "8d2a24b2",
   "metadata": {
    "scrolled": true
   },
   "outputs": [
    {
     "data": {
      "text/plain": [
       "array([[12,  4,  5],\n",
       "       [23, 45, 66],\n",
       "       [45, 34, 23],\n",
       "       [ 1, 40, 50],\n",
       "       [ 2,  4,  6],\n",
       "       [ 4,  3,  2]])"
      ]
     },
     "execution_count": 12,
     "metadata": {},
     "output_type": "execute_result"
    }
   ],
   "source": [
    "np.vstack((a,b))"
   ]
  },
  {
   "cell_type": "code",
   "execution_count": 13,
   "id": "57cc5313",
   "metadata": {},
   "outputs": [
    {
     "data": {
      "text/plain": [
       "array([[12,  4,  5,  1, 40, 50],\n",
       "       [23, 45, 66,  2,  4,  6],\n",
       "       [45, 34, 23,  4,  3,  2]])"
      ]
     },
     "execution_count": 13,
     "metadata": {},
     "output_type": "execute_result"
    }
   ],
   "source": [
    "np.hstack((a,b))"
   ]
  },
  {
   "cell_type": "code",
   "execution_count": 14,
   "id": "cd9e8025",
   "metadata": {},
   "outputs": [
    {
     "data": {
      "text/plain": [
       "array([[12,  4,  5],\n",
       "       [23, 45, 66],\n",
       "       [45, 34, 23]])"
      ]
     },
     "execution_count": 14,
     "metadata": {},
     "output_type": "execute_result"
    }
   ],
   "source": [
    "a.reshape(3,3)"
   ]
  },
  {
   "cell_type": "code",
   "execution_count": 15,
   "id": "1534183a",
   "metadata": {},
   "outputs": [
    {
     "data": {
      "text/plain": [
       "array([1, 2, 3, 6, 7, 8, 9])"
      ]
     },
     "execution_count": 15,
     "metadata": {},
     "output_type": "execute_result"
    }
   ],
   "source": [
    "a=[1,3,2,6,7,8,9]\n",
    "np.sort(a)"
   ]
  },
  {
   "cell_type": "code",
   "execution_count": 16,
   "id": "1c6de29c",
   "metadata": {},
   "outputs": [
    {
     "data": {
      "text/plain": [
       "array([0, 2, 1, 3, 4, 5, 6], dtype=int64)"
      ]
     },
     "execution_count": 16,
     "metadata": {},
     "output_type": "execute_result"
    }
   ],
   "source": [
    "np.argsort(a)"
   ]
  },
  {
   "cell_type": "code",
   "execution_count": 17,
   "id": "f586a0bc",
   "metadata": {},
   "outputs": [
    {
     "data": {
      "text/plain": [
       "array([1.+0.j, 2.+0.j, 3.+0.j, 6.+0.j, 7.+0.j, 8.+0.j, 9.+0.j])"
      ]
     },
     "execution_count": 17,
     "metadata": {},
     "output_type": "execute_result"
    }
   ],
   "source": [
    "np.sort_complex(a)"
   ]
  },
  {
   "cell_type": "code",
   "execution_count": 19,
   "id": "3f6b496f",
   "metadata": {},
   "outputs": [
    {
     "name": "stdout",
     "output_type": "stream",
     "text": [
      "(array([3, 5, 6], dtype=int64),)\n",
      "0\n",
      "[1 2 3]\n"
     ]
    }
   ],
   "source": [
    "import numpy as np\n",
    "arr = np.array([1, 2, 3, 4, 5, 4, 4])\n",
    "x = np.where(arr == 4)\n",
    "print(x)\n",
    "\n",
    "arr = np.array([6, 7, 8, 9])\n",
    "x = np.searchsorted(arr, 5)\n",
    "print(x)\n",
    "\n",
    "arr = np.array([1, 3, 5, 7])\n",
    "x = np.searchsorted(arr, [2, 4, 6])\n",
    "print(x)\n"
   ]
  },
  {
   "cell_type": "code",
   "execution_count": 20,
   "id": "71bd6cb3",
   "metadata": {},
   "outputs": [
    {
     "name": "stdout",
     "output_type": "stream",
     "text": [
      "[0. 1. 2. 3. 4. 5. 6. 7. 8.]\n",
      "[array([0., 1., 2.]), array([3., 4., 5.]), array([6., 7., 8.])]\n",
      "[array([0., 1., 2.]), array([3., 4.]), array([5.]), array([6., 7., 8.]), array([], dtype=float64)]\n",
      "Splitting along horizontal axis into 2 parts:\n",
      " [array([[1, 3, 5],\n",
      "       [2, 4, 6]]), array([[ 7,  9, 11],\n",
      "       [ 8, 10, 12]])]\n",
      "\n",
      "Splitting along vertical axis into 2 parts:\n",
      " [array([[ 1,  3,  5,  7,  9, 11]]), array([[ 2,  4,  6,  8, 10, 12]])]\n"
     ]
    }
   ],
   "source": [
    "import numpy as np\n",
    "\n",
    "x = np.arange(9.0)\n",
    "print(x)\n",
    "print(np.split(x, 3))                # with no of partitions N, \n",
    "print(np.split(x, [3, 5, 6, 10]))   # with indices\n",
    "\n",
    "#the array will be divided into N equal arrays along axis. If such a split is not possible, an error is raised.\n",
    "\n",
    "x = np.arange(9)\n",
    "np.array_split(x, 4)               \n",
    "\n",
    "#Split an array into multiple sub-arrays of equal or near-equal size. Does not raise an exception if an equal division cannot be made.\n",
    "\n",
    "a = np.array([[1, 3, 5, 7, 9, 11],\n",
    "              [2, 4, 6, 8, 10, 12]])\n",
    "  \n",
    "# horizontal splitting\n",
    "print(\"Splitting along horizontal axis into 2 parts:\\n\", np.hsplit(a, 2))\n",
    "  \n",
    "# vertical splitting\n",
    "print(\"\\nSplitting along vertical axis into 2 parts:\\n\", np.vsplit(a, 2))"
   ]
  },
  {
   "cell_type": "code",
   "execution_count": null,
   "id": "d9a9a945",
   "metadata": {},
   "outputs": [],
   "source": []
  }
 ],
 "metadata": {
  "kernelspec": {
   "display_name": "Python 3 (ipykernel)",
   "language": "python",
   "name": "python3"
  },
  "language_info": {
   "codemirror_mode": {
    "name": "ipython",
    "version": 3
   },
   "file_extension": ".py",
   "mimetype": "text/x-python",
   "name": "python",
   "nbconvert_exporter": "python",
   "pygments_lexer": "ipython3",
   "version": "3.11.0"
  }
 },
 "nbformat": 4,
 "nbformat_minor": 5
}
