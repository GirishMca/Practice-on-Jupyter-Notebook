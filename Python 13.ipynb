{
 "cells": [
  {
   "cell_type": "code",
   "execution_count": 1,
   "id": "6ad45b80",
   "metadata": {},
   "outputs": [],
   "source": [
    "a=int(input()) \n",
    "b=int(input())\n",
    "if a>b: \n",
    "    print('a is greater') \n",
    "else:    \n",
    "        print('a is greater')"
   ]
  },
  {
   "cell_type": "code",
   "execution_count": null,
   "id": "5cde8acb",
   "metadata": {
    "scrolled": true
   },
   "outputs": [],
   "source": [
    "a,b,c=input().split()\n",
    "a=int(a)\n",
    "b=int(b)\n",
    "c=int(c)\n",
    "if a>b and a>c:\n",
    "    print('%d is a greater' % a)\n",
    "elif b>c:\n",
    "    print('%d is a greater' % b)\n",
    "else:\n",
    "    print('%d is a greater' % c)\n"
   ]
  },
  {
   "cell_type": "code",
   "execution_count": null,
   "id": "afb71853",
   "metadata": {},
   "outputs": [],
   "source": [
    "5**2"
   ]
  },
  {
   "cell_type": "code",
   "execution_count": null,
   "id": "01aa33d8",
   "metadata": {
    "scrolled": true
   },
   "outputs": [],
   "source": [
    "20>5"
   ]
  },
  {
   "cell_type": "code",
   "execution_count": null,
   "id": "572bfb2a",
   "metadata": {},
   "outputs": [],
   "source": [
    "a=10\n",
    "b=30\n",
    "print(a+b)\n"
   ]
  },
  {
   "cell_type": "code",
   "execution_count": null,
   "id": "b1e52c3d",
   "metadata": {},
   "outputs": [],
   "source": [
    "-5//-2"
   ]
  },
  {
   "cell_type": "code",
   "execution_count": null,
   "id": "3e424d8b",
   "metadata": {},
   "outputs": [],
   "source": [
    "-5//2"
   ]
  },
  {
   "cell_type": "code",
   "execution_count": null,
   "id": "e8489a42",
   "metadata": {},
   "outputs": [],
   "source": [
    "x=20\n",
    "print(\"Hi \"+str(x))"
   ]
  },
  {
   "cell_type": "code",
   "execution_count": null,
   "id": "74e50c86",
   "metadata": {
    "scrolled": true
   },
   "outputs": [],
   "source": [
    "# Program to check if a number is prime or not\n",
    "num = 29\n",
    "flag = False\n",
    "if num == 1:\n",
    "    print(num, \"is not a prime number\")\n",
    "elif num > 1:\n",
    "    for i in range(2, num):\n",
    "        if (num % i) == 0:\n",
    "            flag = True\n",
    "    \n",
    "            break\n",
    "    if flag:\n",
    "        print(num, \"is not a prime number\")\n",
    "    else:\n",
    "        print(num, \"is a prime number\")"
   ]
  },
  {
   "cell_type": "code",
   "execution_count": null,
   "id": "698282b6",
   "metadata": {},
   "outputs": [],
   "source": [
    "for x in range(6):\n",
    "    print(x)"
   ]
  },
  {
   "cell_type": "code",
   "execution_count": null,
   "id": "db409fe2",
   "metadata": {},
   "outputs": [],
   "source": [
    "for x in  \"Banana\":\n",
    "    print(x)"
   ]
  },
  {
   "cell_type": "code",
   "execution_count": null,
   "id": "8a8a6235",
   "metadata": {},
   "outputs": [],
   "source": [
    "for i in range(10,0,-1):\n",
    "    print(i)"
   ]
  },
  {
   "cell_type": "code",
   "execution_count": null,
   "id": "c597ba78",
   "metadata": {},
   "outputs": [],
   "source": [
    "n=' '\n",
    "for x in  'Banana':\n",
    "    n=n+' '+x\n",
    "print(n)"
   ]
  },
  {
   "cell_type": "code",
   "execution_count": null,
   "id": "7a4b5cc6",
   "metadata": {},
   "outputs": [],
   "source": [
    "for i in range(100,0,-1):\n",
    "    print(i)"
   ]
  },
  {
   "cell_type": "code",
   "execution_count": null,
   "id": "5c8d73b5",
   "metadata": {},
   "outputs": [],
   "source": [
    "n=int(input())\n",
    "for i in range(1,n):\n",
    "    print(i)"
   ]
  },
  {
   "cell_type": "code",
   "execution_count": null,
   "id": "a145aef1",
   "metadata": {},
   "outputs": [],
   "source": [
    "n=int(input())\n",
    "for i in range(1,n,2):\n",
    "    print(i)"
   ]
  },
  {
   "cell_type": "code",
   "execution_count": null,
   "id": "ab03b86c",
   "metadata": {},
   "outputs": [],
   "source": [
    "n=int(input())\n",
    "for i in range(0,n,2):\n",
    "    print(i)"
   ]
  },
  {
   "cell_type": "code",
   "execution_count": null,
   "id": "fbaeb26b",
   "metadata": {},
   "outputs": [],
   "source": [
    "n =1000\n",
    "for i in range(n,0,-1):\n",
    "    print(i)"
   ]
  },
  {
   "cell_type": "code",
   "execution_count": null,
   "id": "5536afec",
   "metadata": {},
   "outputs": [],
   "source": [
    "number= int(input(\"please Enter any number:\"))\n",
    "i = number\n",
    "\n",
    "while ( i>=1):\n",
    "    print(i, end = ' ')\n",
    "    i = i -1"
   ]
  },
  {
   "cell_type": "code",
   "execution_count": null,
   "id": "20d7ce86",
   "metadata": {},
   "outputs": [],
   "source": [
    "for i in range(1,11):\n",
    "    for j in range(0,i):\n",
    "        print(i, end=\" \")\n",
    "        \n",
    "    print('')"
   ]
  },
  {
   "cell_type": "code",
   "execution_count": null,
   "id": "710b3bea",
   "metadata": {},
   "outputs": [],
   "source": [
    "for i in range(11,1,-2):\n",
    "    for j in range(0,i):\n",
    "        print(i, end=\" \")\n",
    "        \n",
    "    print('')\n"
   ]
  },
  {
   "cell_type": "code",
   "execution_count": null,
   "id": "7944696f",
   "metadata": {},
   "outputs": [],
   "source": []
  },
  {
   "cell_type": "code",
   "execution_count": null,
   "id": "170f08ad",
   "metadata": {},
   "outputs": [],
   "source": [
    "print (\"The Multiplication Table of: \", number)    \n",
    "for count in range(1, 11):      \n",
    "   print (number, 'x', count, '=', number * count)    "
   ]
  },
  {
   "cell_type": "code",
   "execution_count": null,
   "id": "91961620",
   "metadata": {},
   "outputs": [],
   "source": [
    "for i in range(1,11):\n",
    "    for j in range(0,i):\n",
    "        print(i, end=\" \")\n",
    "        \n",
    "    print('')"
   ]
  },
  {
   "cell_type": "code",
   "execution_count": null,
   "id": "68f7dbe7",
   "metadata": {},
   "outputs": [],
   "source": [
    "for i in range(1,11,2):\n",
    "    for j in range(0,i):\n",
    "        print(i, end=\" \")\n",
    "        \n",
    "    print('')"
   ]
  },
  {
   "cell_type": "code",
   "execution_count": null,
   "id": "34475b9c",
   "metadata": {},
   "outputs": [],
   "source": [
    "for i in range(11,1,-2):\n",
    "    for j in range(0,i):\n",
    "        print(i, end=\" \")\n",
    "        \n",
    "    print('')"
   ]
  },
  {
   "cell_type": "code",
   "execution_count": null,
   "id": "69218889",
   "metadata": {},
   "outputs": [],
   "source": [
    "list1=[12,14,16,18,20]\n",
    "list2=[9,10,32,54,86]\n",
    "l=list1+list2\n",
    "print(l)\n"
   ]
  },
  {
   "cell_type": "code",
   "execution_count": null,
   "id": "4fa905f5",
   "metadata": {},
   "outputs": [
    {
     "name": "stdout",
     "output_type": "stream",
     "text": [
      "the common element is  2\n",
      "the common element is  6\n"
     ]
    }
   ],
   "source": [
    "list1=[1,2,3,4,5,6]\n",
    "list2=[7,8,9,2,6]\n",
    "for x in list1:\n",
    "    for y in list2:\n",
    "        if x==y:\n",
    "            print(\"the common element is \",y)"
   ]
  },
  {
   "cell_type": "code",
   "execution_count": null,
   "id": "c5a2a4f2",
   "metadata": {},
   "outputs": [
    {
     "name": "stdout",
     "output_type": "stream",
     "text": [
      "Not Accepted\n"
     ]
    }
   ],
   "source": [
    "s='err'\n",
    "vowels='a'\n",
    "if len(s) == len(vowels) :\n",
    "    print(\"Accept\")\n",
    "else:\n",
    "     print(\"Not Accepted\")"
   ]
  },
  {
   "cell_type": "code",
   "execution_count": null,
   "id": "564d90fe",
   "metadata": {},
   "outputs": [
    {
     "name": "stdout",
     "output_type": "stream",
     "text": [
      "RAHIB\n"
     ]
    }
   ],
   "source": [
    "clg=\"BIHAR\"\n",
    "clg = \"\".join(reversed(clg))\n",
    "print(clg)"
   ]
  },
  {
   "cell_type": "code",
   "execution_count": null,
   "id": "823a3ee9",
   "metadata": {},
   "outputs": [
    {
     "name": "stdout",
     "output_type": "stream",
     "text": [
      "Initial String: \n",
      "CMR Institute of Technology\n"
     ]
    }
   ],
   "source": [
    "String1 = \"CMR Institute of Technology\"\n",
    "print(\"Initial String: \")\n",
    "print(String1)"
   ]
  },
  {
   "cell_type": "code",
   "execution_count": null,
   "id": "d390a982",
   "metadata": {},
   "outputs": [
    {
     "name": "stdout",
     "output_type": "stream",
     "text": [
      "Initial String: \n",
      "Hello, I'm a student\n",
      "\n",
      "Deleting entire String: \n"
     ]
    }
   ],
   "source": [
    "String1 = \"Hello, I'm a student\"\n",
    "print(\"Initial String: \")\n",
    "print(String1)\n",
    "print(\"\\nDeleting entire String: \")"
   ]
  },
  {
   "cell_type": "code",
   "execution_count": null,
   "id": "7c00a900",
   "metadata": {},
   "outputs": [
    {
     "name": "stdout",
     "output_type": "stream",
     "text": [
      "Geeks for life\n"
     ]
    }
   ],
   "source": [
    "String1 = \"{} {} {}\".format('Geeks', 'for', 'life')\n",
    "print(String1)"
   ]
  },
  {
   "cell_type": "code",
   "execution_count": null,
   "id": "cbfe304a",
   "metadata": {},
   "outputs": [
    {
     "name": "stdout",
     "output_type": "stream",
     "text": [
      "Geeks life for\n"
     ]
    }
   ],
   "source": [
    "String1= \"{0} {2} {1}\".format('Geeks', 'for', 'life')\n",
    "print(String1)"
   ]
  },
  {
   "cell_type": "code",
   "execution_count": null,
   "id": "0e7e8b4e",
   "metadata": {},
   "outputs": [
    {
     "name": "stdout",
     "output_type": "stream",
     "text": [
      "The string aren't anagrams.\n"
     ]
    }
   ],
   "source": [
    "def check(s1,s2):\n",
    "    if(sorted(s1)== sorted(s2)):\n",
    "        print(\"The string are anagrams.\")\n",
    "    else:\n",
    "        print(\"The string aren't anagrams.\")\n",
    "            \n",
    "            \n",
    "s1=\"Lisen\"\n",
    "s2=\"silence\"\n",
    "check(s1,s2)"
   ]
  },
  {
   "cell_type": "code",
   "execution_count": null,
   "id": "99fab027",
   "metadata": {},
   "outputs": [
    {
     "name": "stdout",
     "output_type": "stream",
     "text": [
      "enter the sentencei am learning python at cmrit\n",
      "enter value of n7\n",
      "['learning']\n"
     ]
    }
   ],
   "source": [
    "sentence=input(\"enter the sentence\")\n",
    "n=int(input(\"enter value of n\"))\n",
    "def senToword(sen,n):\n",
    "    word=[]\n",
    "    sen=sen.split(\" \")\n",
    "    for i in sen:\n",
    "        if len(i)>n:\n",
    "            word.append(i)\n",
    "    return word\n",
    "print(senToword(sentence,n))"
   ]
  },
  {
   "cell_type": "code",
   "execution_count": null,
   "id": "82b8dde4",
   "metadata": {},
   "outputs": [
    {
     "name": "stdout",
     "output_type": "stream",
     "text": [
      "['apple', 'banana', 'mango']\n"
     ]
    }
   ],
   "source": [
    "fruits=[\"apple\",\"banana\",\"cherry\",\"kiwi\",\"mango\"]\n",
    "newList =[x for x in fruits if \"a\" in x]\n",
    "print(newList)"
   ]
  },
  {
   "cell_type": "code",
   "execution_count": null,
   "id": "882ba3d4",
   "metadata": {},
   "outputs": [
    {
     "name": "stdout",
     "output_type": "stream",
     "text": [
      "[1, 3, 5, 7, 9]\n"
     ]
    }
   ],
   "source": [
    "v=[i for i in range(1,11) if i%2!=0]\n",
    "print(v)"
   ]
  },
  {
   "cell_type": "code",
   "execution_count": null,
   "id": "4b185625",
   "metadata": {},
   "outputs": [],
   "source": []
  },
  {
   "cell_type": "code",
   "execution_count": null,
   "id": "46c764eb",
   "metadata": {},
   "outputs": [],
   "source": []
  }
 ],
 "metadata": {
  "kernelspec": {
   "display_name": "Python 3 (ipykernel)",
   "language": "python",
   "name": "python3"
  },
  "language_info": {
   "codemirror_mode": {
    "name": "ipython",
    "version": 3
   },
   "file_extension": ".py",
   "mimetype": "text/x-python",
   "name": "python",
   "nbconvert_exporter": "python",
   "pygments_lexer": "ipython3",
   "version": "3.11.0"
  }
 },
 "nbformat": 4,
 "nbformat_minor": 5
}
