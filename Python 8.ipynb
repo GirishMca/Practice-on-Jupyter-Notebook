{
 "cells": [
  {
   "cell_type": "code",
   "execution_count": 3,
   "id": "517b7ab7",
   "metadata": {},
   "outputs": [
    {
     "name": "stdout",
     "output_type": "stream",
     "text": [
      "Enter an element to be inserted6\n",
      "Element not found\n"
     ]
    }
   ],
   "source": [
    "def linearsearch(array,n,x):\n",
    "    for i in range(0,n):\n",
    "        if (array[i]==x):\n",
    "            return i\n",
    "        return -1\n",
    "    \n",
    "array=[2,4,5,6,8]\n",
    "x=eval(input(\"Enter an element to be inserted\"))\n",
    "n=len(array)\n",
    "result=linearsearch(array,n,x)\n",
    "if (result == -1):\n",
    "    print(\"Element not found\")\n",
    "else:\n",
    "    print(\"element found at index:\",result)"
   ]
  },
  {
   "cell_type": "code",
   "execution_count": 4,
   "id": "f10b80e8",
   "metadata": {},
   "outputs": [
    {
     "name": "stdout",
     "output_type": "stream",
     "text": [
      "enter the element to be searched: 9\n",
      "Element found at index:  4\n"
     ]
    }
   ],
   "source": [
    "def linearSearch(array, n, x):\n",
    "\n",
    "    # Going through array sequencially\n",
    "    for i in range(0, n):\n",
    "        if (array[i] == x):\n",
    "            return i\n",
    "    return -1\n",
    "\n",
    "\n",
    "array = [2, 4, 0, 1, 9]\n",
    "x = eval(input(\"enter the element to be searched: \"))\n",
    "# Python eval() function is used to parse an expression string as python expression\n",
    "# and then execute it.\n",
    "n = len(array)\n",
    "result = linearSearch(array, n, x)\n",
    "if(result == -1):\n",
    "    print(\"Element not found\")\n",
    "else:\n",
    "    print(\"Element found at index: \", result)"
   ]
  },
  {
   "cell_type": "code",
   "execution_count": null,
   "id": "b77dea9c",
   "metadata": {},
   "outputs": [],
   "source": []
  }
 ],
 "metadata": {
  "kernelspec": {
   "display_name": "Python 3 (ipykernel)",
   "language": "python",
   "name": "python3"
  },
  "language_info": {
   "codemirror_mode": {
    "name": "ipython",
    "version": 3
   },
   "file_extension": ".py",
   "mimetype": "text/x-python",
   "name": "python",
   "nbconvert_exporter": "python",
   "pygments_lexer": "ipython3",
   "version": "3.11.0"
  }
 },
 "nbformat": 4,
 "nbformat_minor": 5
}
