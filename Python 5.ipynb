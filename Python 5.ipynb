{
 "cells": [
  {
   "cell_type": "code",
   "execution_count": 1,
   "id": "e82ead6b",
   "metadata": {},
   "outputs": [
    {
     "name": "stdout",
     "output_type": "stream",
     "text": [
      "enter the value to be inserted 2\n",
      "[1, 2, 2, 4]\n"
     ]
    }
   ],
   "source": [
    "import bisect  \n",
    "  \n",
    "def insert(list, n):\n",
    "    bisect.insort(list, n) \n",
    "    return list\n",
    "  \n",
    "\n",
    "list = [1, 2, 4]\n",
    "n = eval(input(\"enter the value to be inserted \"))\n",
    "  \n",
    "print(insert(list, n))"
   ]
  },
  {
   "cell_type": "code",
   "execution_count": 2,
   "id": "be805436",
   "metadata": {},
   "outputs": [
    {
     "name": "stdout",
     "output_type": "stream",
     "text": [
      "enter the element to be searched: 4\n",
      "Element found at index:  1\n"
     ]
    }
   ],
   "source": [
    "def linearSearch(array, n, x):\n",
    "    for i in range(0, n):\n",
    "        if (array[i] == x):\n",
    "            return i\n",
    "    return -1\n",
    "\n",
    "array = [2, 4, 0, 1, 9]\n",
    "x = eval(input(\"enter the element to be searched: \"))\n",
    "n = len(array)\n",
    "result = linearSearch(array, n, x)\n",
    "if(result == -1):\n",
    "    print(\"Element not found\")\n",
    "else:\n",
    "    print(\"Element found at index: \", result)"
   ]
  },
  {
   "cell_type": "code",
   "execution_count": 3,
   "id": "435a926f",
   "metadata": {},
   "outputs": [
    {
     "name": "stdout",
     "output_type": "stream",
     "text": [
      " the values are :\n",
      "a=10 b=20\n",
      "d=30\n",
      " the values are :\n",
      "a=10 b=20\n",
      "d=30\n",
      "\n",
      " Sum of two objects : 80\n"
     ]
    }
   ],
   "source": [
    "class Base:\n",
    "    def __init__(self):\n",
    "        self.a = 10\n",
    "        self._b = 20\n",
    "        \n",
    "    def display(self):\n",
    "         print(\" the values are :\")\n",
    "         print(f\"a={self.a} b={self._b}\")\n",
    "\n",
    "class Derived(Base):                                \n",
    "    def __init__(self):         \n",
    "        Base.__init__(self)                       \n",
    "        self.d = 30\n",
    "        \n",
    "    def display(self):\n",
    "        Base.display(self)\n",
    "        print(f\"d={self.d}\")\n",
    "\n",
    "    def __add__(self, ob):\n",
    "        return self.a + ob.a+self.d + ob.d\n",
    "\n",
    "\n",
    "obj1 = Base()\n",
    "obj2 = Derived()\n",
    "obj3 = Derived()\n",
    "\n",
    "\n",
    "obj2.display()\n",
    "obj3.display()\n",
    "\n",
    "print(\"\\n Sum of two objects :\",obj2 + obj3)"
   ]
  },
  {
   "cell_type": "code",
   "execution_count": null,
   "id": "e684ce1c",
   "metadata": {},
   "outputs": [],
   "source": []
  }
 ],
 "metadata": {
  "kernelspec": {
   "display_name": "Python 3 (ipykernel)",
   "language": "python",
   "name": "python3"
  },
  "language_info": {
   "codemirror_mode": {
    "name": "ipython",
    "version": 3
   },
   "file_extension": ".py",
   "mimetype": "text/x-python",
   "name": "python",
   "nbconvert_exporter": "python",
   "pygments_lexer": "ipython3",
   "version": "3.11.0"
  }
 },
 "nbformat": 4,
 "nbformat_minor": 5
}
