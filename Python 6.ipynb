{
 "cells": [
  {
   "cell_type": "code",
   "execution_count": null,
   "id": "c8f2d463",
   "metadata": {},
   "outputs": [],
   "source": [
    "def linearsearch(array,n,x):\n",
    "    for i in range(0,n):\n",
    "        if(array[i]==x):\n",
    "            return i\n",
    "        return -1\n",
    "\n",
    "array=[2,4,6,8,9]\n",
    "x=eval(input(\"enter an element to be inserted\"))\n",
    "n=len(array)\n",
    "result=linearsearch(array,n,x)\n",
    "if(result == -1)\n",
    "print(\"element not found\")\n",
    "else:\n",
    "    print(\"element found at index: \",result)"
   ]
  },
  {
   "cell_type": "code",
   "execution_count": null,
   "id": "0b806ba9",
   "metadata": {},
   "outputs": [],
   "source": [
    "class Base:\n",
    "    def __init__(self):\n",
    "        self.a = 10\n",
    "        self._b = 20\n",
    "        \n",
    "    def display(self):\n",
    "         print(\" the values are :\")\n",
    "         print(f\"a={self.a} b={self._b}\")\n",
    "\n",
    "class Derived(Base):                                   # Creating a derived class\n",
    "    def __init__(self):         \n",
    "        Base.__init__(self)                        # Calling constructor of Base class\n",
    "        self.d = 30\n",
    "        \n",
    "    def display(self):\n",
    "        Base.display(self)\n",
    "        print(f\"d={self.d}\")\n",
    "\n",
    "    def __add__(self, ob):\n",
    "        return self.a + ob.a+self.d + ob.d\n",
    "        #return self.a + ob.a+self.d + ob.d+self.b + ob.b\n",
    "\n",
    "\n",
    "obj1 = Base()\n",
    "obj2 = Derived()\n",
    "obj3 = Derived()\n",
    "\n",
    "\n",
    "obj2.display()\n",
    "obj3.display()"
   ]
  },
  {
   "cell_type": "code",
   "execution_count": null,
   "id": "90f7bb39",
   "metadata": {},
   "outputs": [],
   "source": []
  },
  {
   "cell_type": "code",
   "execution_count": null,
   "id": "d02e06ab",
   "metadata": {},
   "outputs": [],
   "source": []
  },
  {
   "cell_type": "code",
   "execution_count": null,
   "id": "b3cd2b5b",
   "metadata": {},
   "outputs": [],
   "source": []
  }
 ],
 "metadata": {
  "kernelspec": {
   "display_name": "Python 3 (ipykernel)",
   "language": "python",
   "name": "python3"
  },
  "language_info": {
   "codemirror_mode": {
    "name": "ipython",
    "version": 3
   },
   "file_extension": ".py",
   "mimetype": "text/x-python",
   "name": "python",
   "nbconvert_exporter": "python",
   "pygments_lexer": "ipython3",
   "version": "3.11.0"
  }
 },
 "nbformat": 4,
 "nbformat_minor": 5
}
