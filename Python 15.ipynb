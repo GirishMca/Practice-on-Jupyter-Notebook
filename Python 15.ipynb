{
 "cells": [
  {
   "cell_type": "code",
   "execution_count": null,
   "id": "a7ddcd2d",
   "metadata": {},
   "outputs": [],
   "source": [
    "x=print(\"BIHAR\")\n",
    "print(x)"
   ]
  },
  {
   "cell_type": "code",
   "execution_count": null,
   "id": "0c424536",
   "metadata": {},
   "outputs": [],
   "source": [
    "x=len(\"BIHAR\")\n",
    "print(x)"
   ]
  },
  {
   "cell_type": "code",
   "execution_count": null,
   "id": "19e39795",
   "metadata": {},
   "outputs": [],
   "source": [
    "def sum(n):\n",
    "    s=0\n",
    "    for i in range(1,n+1):\n",
    "        s=s+i\n",
    "    return s  \n",
    "\n",
    "n=int(input())\n",
    "print(sum(6))"
   ]
  },
  {
   "cell_type": "code",
   "execution_count": null,
   "id": "07a2372a",
   "metadata": {},
   "outputs": [],
   "source": [
    "#write a pythgon progrfam factrorial function\n",
    "def fact(n):\n",
    "    f=0\n",
    "    for i in range(1,n+1):\n",
    "        f=f*i\n",
    "    return f\n",
    "n=int(input())\n",
    "print(fact(n))\n"
   ]
  },
  {
   "cell_type": "code",
   "execution_count": null,
   "id": "a3408819",
   "metadata": {},
   "outputs": [],
   "source": [
    "def product(a,b):\n",
    "    if(a<b):\n",
    "        return product(b,a)\n",
    "    elif(b!=0):\n",
    "        return(a+product(a,b-1))\n",
    "    else:\n",
    "        return 0\n",
    "a=int(input(\"Enter first number: \"))\n",
    "b=int(input(\"Enter second number: \"))\n",
    "print(\"Product is: \",product(a,b))"
   ]
  },
  {
   "cell_type": "code",
   "execution_count": null,
   "id": "fd9e772f",
   "metadata": {},
   "outputs": [],
   "source": [
    "def fact(n):\n",
    "    if (n <=1):\n",
    "        return- 1\n",
    "    else:\n",
    "        return n * fact(n-1)\n",
    "    \n",
    "while True:\n",
    "    user_input = input('Enter an interger :')\n",
    "    if (user_input == 'exit'):\n",
    "        break\n",
    "    else:\n",
    "        print(F'The factorial of {user_input} is {fact(int(user_input))}')\n",
    "    \n",
    "    "
   ]
  },
  {
   "cell_type": "code",
   "execution_count": null,
   "id": "200e6a30",
   "metadata": {},
   "outputs": [],
   "source": [
    "# write a program recursivefunction fibonaaci number\n",
    "using namespace std;\n",
    "int fib(int n)\n",
    "{\n",
    "    if (n <= 1)\n",
    "        return n;\n",
    "    return fib(n - 1) + fib(n - 2);\n",
    "}\n",
    " \n",
    "int main()\n",
    "{\n",
    "    int n = 9;\n",
    "    cout << fib(n);\n",
    "    getchar();\n",
    "    return 0;\n",
    "}    \n",
    "    "
   ]
  },
  {
   "cell_type": "code",
   "execution_count": 1,
   "id": "b190bca5",
   "metadata": {},
   "outputs": [
    {
     "name": "stdout",
     "output_type": "stream",
     "text": [
      "5\n",
      "0,1,1,2,3,"
     ]
    }
   ],
   "source": [
    "n=int(input())\n",
    "f1=0\n",
    "f2=1\n",
    "print(f1,f2,sep=',',end=',')\n",
    "i=3\n",
    "while i<=n:\n",
    "    f3=f1+f2\n",
    "    print(f3,sep=',',end=',')\n",
    "    f1=f2\n",
    "    f2=f3\n",
    "    i=i+1\n",
    "    "
   ]
  },
  {
   "cell_type": "code",
   "execution_count": null,
   "id": "5b120567",
   "metadata": {},
   "outputs": [],
   "source": [
    "def fib(n):\n",
    "    if(n == 0 or n==1):\n",
    "        return n\n",
    "    else:\n",
    "        return fib(n-1)+fib(n-2)\n",
    "while True:\n",
    "    user_input = input('Enter an integer: ')\n",
    "    if (user_input == 'exit'):\n",
    "        break\n",
    "    else:\n",
    "        fib = [0] * int(user_input)\n",
    "        fib[0] = 0\n",
    "        fib[1] = 1\n",
    "    print(fib(int(user_input)))\n"
   ]
  },
  {
   "cell_type": "code",
   "execution_count": 1,
   "id": "99ea45e7",
   "metadata": {},
   "outputs": [
    {
     "name": "stdout",
     "output_type": "stream",
     "text": [
      "[0, 0, 0, 0, 0]\n"
     ]
    }
   ],
   "source": [
    "fib = [0] * 5\n",
    "print(fib)"
   ]
  },
  {
   "cell_type": "code",
   "execution_count": null,
   "id": "8ecc3967",
   "metadata": {},
   "outputs": [],
   "source": []
  },
  {
   "cell_type": "code",
   "execution_count": null,
   "id": "91101f5c",
   "metadata": {},
   "outputs": [],
   "source": []
  }
 ],
 "metadata": {
  "kernelspec": {
   "display_name": "Python 3 (ipykernel)",
   "language": "python",
   "name": "python3"
  },
  "language_info": {
   "codemirror_mode": {
    "name": "ipython",
    "version": 3
   },
   "file_extension": ".py",
   "mimetype": "text/x-python",
   "name": "python",
   "nbconvert_exporter": "python",
   "pygments_lexer": "ipython3",
   "version": "3.11.0"
  }
 },
 "nbformat": 4,
 "nbformat_minor": 5
}
