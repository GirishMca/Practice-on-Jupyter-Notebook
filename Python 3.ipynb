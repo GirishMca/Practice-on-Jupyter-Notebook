{
 "cells": [
  {
   "cell_type": "code",
   "execution_count": 1,
   "id": "41ada412",
   "metadata": {},
   "outputs": [
    {
     "name": "stdout",
     "output_type": "stream",
     "text": [
      "enter an element to be inserted4\n",
      "element not found\n"
     ]
    }
   ],
   "source": [
    "def linearsearch(array,n,x):\n",
    "    for i in range(0,n):\n",
    "        if(array[i]==x):\n",
    "            return i\n",
    "        return -1\n",
    "array=[2,4,0,1,9]\n",
    "x=eval(input(\"enter an element to be inserted\"))\n",
    "n=len(array)\n",
    "result=linearsearch(array,n,x)\n",
    "if(result==-1):\n",
    "    print(\"element not found\")\n",
    "else:\n",
    "    print(\"element found at index:\",result)"
   ]
  },
  {
   "cell_type": "code",
   "execution_count": null,
   "id": "4209c304",
   "metadata": {},
   "outputs": [],
   "source": []
  }
 ],
 "metadata": {
  "kernelspec": {
   "display_name": "Python 3 (ipykernel)",
   "language": "python",
   "name": "python3"
  },
  "language_info": {
   "codemirror_mode": {
    "name": "ipython",
    "version": 3
   },
   "file_extension": ".py",
   "mimetype": "text/x-python",
   "name": "python",
   "nbconvert_exporter": "python",
   "pygments_lexer": "ipython3",
   "version": "3.11.0"
  }
 },
 "nbformat": 4,
 "nbformat_minor": 5
}
