{
 "cells": [
  {
   "cell_type": "code",
   "execution_count": null,
   "id": "64c954d9",
   "metadata": {},
   "outputs": [],
   "source": [
    "def linearsearch(array,n,x):\n",
    "    for i in range(0,n):\n",
    "        if(array[i]==x):\n",
    "            return i\n",
    "    return -1\n",
    "\n",
    "array=[2,4,6,8,9]\n",
    "x=eval(input(\"Enter an element to be search\"))\n",
    "n=len(array)\n",
    "result=linearsearch(array,n,x)\n",
    "if(result==-1):\n",
    "    print(\"Element are not found\")\n",
    "else:\n",
    "    print(\"Element are found at index:\",result)"
   ]
  }
 ],
 "metadata": {
  "kernelspec": {
   "display_name": "Python 3 (ipykernel)",
   "language": "python",
   "name": "python3"
  },
  "language_info": {
   "codemirror_mode": {
    "name": "ipython",
    "version": 3
   },
   "file_extension": ".py",
   "mimetype": "text/x-python",
   "name": "python",
   "nbconvert_exporter": "python",
   "pygments_lexer": "ipython3",
   "version": "3.11.0"
  }
 },
 "nbformat": 4,
 "nbformat_minor": 5
}
